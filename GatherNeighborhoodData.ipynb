{
 "cells": [
  {
   "cell_type": "code",
   "execution_count": 3,
   "metadata": {},
   "outputs": [],
   "source": [
    "# Imports\n",
    "%matplotlib inline\n",
    "import pandas as pd\n",
    "import numpy as np\n",
    "import json\n",
    "import difflib\n",
    "import matplotlib.pyplot as plt\n",
    "from timeit import default_timer as timer\n",
    "\n",
    "import googlemaps as gm\n",
    "from datetime import datetime"
   ]
  },
  {
   "cell_type": "code",
   "execution_count": 4,
   "metadata": {},
   "outputs": [
    {
     "ename": "ModuleNotFoundError",
     "evalue": "No module named 'gm'",
     "output_type": "error",
     "traceback": [
      "\u001b[0;31m---------------------------------------------------------------------------\u001b[0m",
      "\u001b[0;31mModuleNotFoundError\u001b[0m                       Traceback (most recent call last)",
      "\u001b[0;32m<ipython-input-4-cbe26fedcea3>\u001b[0m in \u001b[0;36m<module>\u001b[0;34m\u001b[0m\n\u001b[0;32m----> 1\u001b[0;31m \u001b[0;32mfrom\u001b[0m \u001b[0mgm\u001b[0m \u001b[0;32mimport\u001b[0m \u001b[0mGoogleMaps\u001b[0m\u001b[0;34m\u001b[0m\u001b[0;34m\u001b[0m\u001b[0m\n\u001b[0m\u001b[1;32m      2\u001b[0m \u001b[0mgmaps\u001b[0m \u001b[0;34m=\u001b[0m \u001b[0mgooglemaps\u001b[0m\u001b[0;34m.\u001b[0m\u001b[0mClient\u001b[0m\u001b[0;34m(\u001b[0m\u001b[0mkey\u001b[0m\u001b[0;34m=\u001b[0m\u001b[0;34m'####'\u001b[0m\u001b[0;34m)\u001b[0m\u001b[0;34m\u001b[0m\u001b[0;34m\u001b[0m\u001b[0m\n",
      "\u001b[0;31mModuleNotFoundError\u001b[0m: No module named 'gm'"
     ]
    }
   ],
   "source": [
    "from gm import GoogleMaps\n",
    "gmaps = googlemaps.Client(key='####')"
   ]
  },
  {
   "cell_type": "code",
   "execution_count": 3,
   "metadata": {},
   "outputs": [
    {
     "ename": "AttributeError",
     "evalue": "'Client' object has no attribute 'address_to_latlng'",
     "output_type": "error",
     "traceback": [
      "\u001b[0;31m---------------------------------------------------------------------------\u001b[0m",
      "\u001b[0;31mAttributeError\u001b[0m                            Traceback (most recent call last)",
      "\u001b[0;32m<ipython-input-3-852352c66f67>\u001b[0m in \u001b[0;36m<module>\u001b[0;34m\u001b[0m\n\u001b[1;32m      1\u001b[0m \u001b[0maddress\u001b[0m \u001b[0;34m=\u001b[0m \u001b[0;34m'Palo Alto, CA'\u001b[0m\u001b[0;34m\u001b[0m\u001b[0;34m\u001b[0m\u001b[0m\n\u001b[0;32m----> 2\u001b[0;31m \u001b[0mlat\u001b[0m\u001b[0;34m,\u001b[0m \u001b[0mlng\u001b[0m \u001b[0;34m=\u001b[0m \u001b[0mgmaps\u001b[0m\u001b[0;34m.\u001b[0m\u001b[0maddress_to_latlng\u001b[0m\u001b[0;34m(\u001b[0m\u001b[0maddress\u001b[0m\u001b[0;34m)\u001b[0m\u001b[0;34m\u001b[0m\u001b[0;34m\u001b[0m\u001b[0m\n\u001b[0m\u001b[1;32m      3\u001b[0m \u001b[0mprint\u001b[0m \u001b[0;34m(\u001b[0m\u001b[0mlat\u001b[0m\u001b[0;34m,\u001b[0m \u001b[0mlng\u001b[0m\u001b[0;34m)\u001b[0m\u001b[0;34m\u001b[0m\u001b[0;34m\u001b[0m\u001b[0m\n\u001b[1;32m      4\u001b[0m \u001b[0;34m\u001b[0m\u001b[0m\n\u001b[1;32m      5\u001b[0m \u001b[0mdestination\u001b[0m \u001b[0;34m=\u001b[0m \u001b[0mgmaps\u001b[0m\u001b[0;34m.\u001b[0m\u001b[0mlatlng_to_address\u001b[0m\u001b[0;34m(\u001b[0m\u001b[0mlat\u001b[0m\u001b[0;34m,\u001b[0m \u001b[0mlong\u001b[0m\u001b[0;34m)\u001b[0m\u001b[0;34m\u001b[0m\u001b[0;34m\u001b[0m\u001b[0m\n",
      "\u001b[0;31mAttributeError\u001b[0m: 'Client' object has no attribute 'address_to_latlng'"
     ]
    }
   ],
   "source": [
    "address = 'Palo Alto, CA'\n",
    "lat, lng = gmaps.address_to_latlng(address)\n",
    "print (lat, lng)\n",
    "\n",
    "destination = gmaps.latlng_to_address(lat, long)\n",
    "\n",
    "local = gmaps.local_search(destination + ' neighborhoods')\n",
    "print (local['responseData']['results'][0]['titleNoFormatting'])"
   ]
  },
  {
   "cell_type": "code",
   "execution_count": null,
   "metadata": {},
   "outputs": [],
   "source": [
    "df_contact_neighborhood['Similar Google Neighborhood'] = 'None'\n",
    "df_contacts['Similar Google Neighborhood'] = 'None'"
   ]
  },
  {
   "cell_type": "code",
   "execution_count": null,
   "metadata": {},
   "outputs": [],
   "source": [
    "neighborhoods = list(df_google_neighborhoods['Neighborhood'])\n",
    "for index, row in df_contact_neighborhood.iterrows():\n",
    "    row['Similar Google Neighborhood'] = difflib.get_close_matches(row['Nextdoor Neighborhood'].lower(), neighborhoods)"
   ]
  },
  {
   "cell_type": "code",
   "execution_count": null,
   "metadata": {},
   "outputs": [],
   "source": [
    "import subprocess\n",
    "neighborhood_json = json.loads(neighborhoodGeometries)\n",
    "\n",
    "with open('data.geojson', 'w') as f:\n",
    "    geojson.dump(neighborhood_json, f)\n",
    "\n",
    "args = ['ogr2ogr', '-f', 'ESRI Shapefile', 'destination_data.shp', 'data.geojson']\n",
    "subprocess.Popen(args)"
   ]
  },
  {
   "cell_type": "code",
   "execution_count": null,
   "metadata": {},
   "outputs": [],
   "source": [
    "import pprint \n",
    "pp = pprint.PrettyPrinter(indent=4)\n",
    "pp.pprint(neighborhood_json)\n",
    "feature = neighborhood_json[\"features\"][0]\n",
    "pp.pprint(feature)"
   ]
  },
  {
   "cell_type": "code",
   "execution_count": null,
   "metadata": {},
   "outputs": [],
   "source": [
    "#how to output a bunch of geojson\n",
    "features = []\n",
    "features.append(feature)\n",
    "\n",
    "feature_collection = geojson.FeatureCollection(features)\n",
    "print(feature_collection)"
   ]
  },
  {
   "cell_type": "code",
   "execution_count": null,
   "metadata": {},
   "outputs": [],
   "source": [
    "#Explode the Interests field\n",
    "df_nextdoor_explode_interests_neighborhoods = df_nextdoor_neighborhoods.drop('Interests', axis=1).join(df_nextdoor_neighborhoods['Interests'].str.split(',', expand=True).stack().reset_index(level=1, drop=True).rename('Interests'))\n",
    "df_nextdoor_explode_interests_neighborhoods.reset_index(drop=True, inplace=True)\n",
    "\n",
    "# List a row to verify data was exploded correctly\n",
    "df_nextdoor_explode_interests_neighborhoods.head(1)"
   ]
  },
  {
   "cell_type": "code",
   "execution_count": null,
   "metadata": {},
   "outputs": [],
   "source": [
    "try:\n",
    "    begCensusIndex = neighborhood_info.index('census: {')\n",
    "    endCensusIndex = neighborhood_info.index('city: ')\n",
    "    if ((begCensusIndex > 0) and (endCensusIndex > 0)):\n",
    "        census = neighborhood_info[begCensusIndex: endCensusIndex]\n",
    "        census = census[census.index('{'): census.index('}')+1]\n",
    "        census = json.loads(census)\n",
    "        print(census['homeowners'])\n",
    "        print(census['population'])\n",
    "        print(census['age'])\n",
    "except:\n",
    "    print(\"No census found for: %s\", row[\"Hood Name\"])"
   ]
  },
  {
   "cell_type": "code",
   "execution_count": null,
   "metadata": {},
   "outputs": [],
   "source": [
    "try:\n",
    "    begInterestIndex = neighborhood_info.index('interests: [')\n",
    "    endInterestIndex = neighborhood_info.index('iosUrl: \"https://')\n",
    "    if ((begInterestIndex > 0) and (endInterestIndex > 0)):\n",
    "        interests = neighborhood_info[begInterestIndex: endInterestIndex]\n",
    "        interests = interests[interests.index('[') +1: interests.index(']')]\n",
    "        interests = interests.replace('\"', \"\")\n",
    "        interest_list = interests.split(\", \")\n",
    "        print(\"Interests: %s\\n\" % interests)\n",
    "        print(interest_list.index('Gardening & Landscape'))\n",
    "except:\n",
    "    print(\"No interests found for: %s\", row[\"Hood Name\"])"
   ]
  },
  {
   "cell_type": "code",
   "execution_count": null,
   "metadata": {},
   "outputs": [],
   "source": [
    "try:\n",
    "    begAttrIndex = neighborhood_info.index('attributes: [')\n",
    "    endAttrIndex = neighborhood_info.index('census:')\n",
    "    if ((begAttrIndex > 0) and (endAttrIndex > 0)):\n",
    "        attributes = neighborhood_info[begAttrIndex: endAttrIndex]\n",
    "        attributes = attributes[attributes.index('[') + 1: attributes.index(']')]\n",
    "        attributes = attributes.replace('\"', \"\")\n",
    "        attributes_list = attributes.split(\", \")\n",
    "        print(\"Attributes: %s\\n\" % attributes_list)\n",
    "except:\n",
    "    print(\"No attributes found for: %s\", row[\"Hood Name\"])"
   ]
  },
  {
   "cell_type": "code",
   "execution_count": null,
   "metadata": {},
   "outputs": [],
   "source": [
    "neighborhoods = list(df_nextdoor_neighborhoods['Neighborhood'])\n",
    "for index, row in df_contact_neighborhood.iterrows():\n",
    "    row['Similar Nextdoor Neighborhood'] = difflib.get_close_matches(row['Nextdoor Neighborhood'].lower(), neighborhoods)"
   ]
  }
 ],
 "metadata": {
  "kernelspec": {
   "display_name": "Python 3",
   "language": "python",
   "name": "python3"
  },
  "language_info": {
   "codemirror_mode": {
    "name": "ipython",
    "version": 3
   },
   "file_extension": ".py",
   "mimetype": "text/x-python",
   "name": "python",
   "nbconvert_exporter": "python",
   "pygments_lexer": "ipython3",
   "version": "3.6.7"
  }
 },
 "nbformat": 4,
 "nbformat_minor": 2
}
