{
 "cells": [
  {
   "cell_type": "markdown",
   "metadata": {},
   "source": [
    "# Comparing to Google Neighborhoods"
   ]
  },
  {
   "cell_type": "code",
   "execution_count": null,
   "metadata": {},
   "outputs": [],
   "source": [
    "# Imports\n",
    "%matplotlib inline\n",
    "import pandas as pd\n",
    "import numpy as np\n",
    "import json\n",
    "import geojson\n",
    "import shapefile\n",
    "import requests\n",
    "from bs4 import BeautifulSoup\n",
    "import difflib\n",
    "import pprint as pp\n",
    "import six.moves.urllib as urllib\n",
    "import matplotlib.pyplot as plt\n",
    "import re\n",
    "from timeit import default_timer as timer"
   ]
  },
  {
   "cell_type": "code",
   "execution_count": null,
   "metadata": {},
   "outputs": [],
   "source": [
    "_GM_API_KEY = '#####'"
   ]
  },
  {
   "cell_type": "code",
   "execution_count": null,
   "metadata": {},
   "outputs": [],
   "source": [
    "df_nextdoor_neighborhoods['Similar Google Neighborhood'] = 'None'\n",
    "df_nextdoor_neighborhoods['Google Place ID'] = 'None'\n",
    "#df_nextdoor_neighborhoods[Google Location = 'None'"
   ]
  },
  {
   "cell_type": "code",
   "execution_count": null,
   "metadata": {},
   "outputs": [],
   "source": [
    "for index, row in df_nextdoor_neighborhoods.iterrows():\n",
    "    neighborhoodquery = urllib.parse.quote(row[\"Neighborhood\"] + ', ' +  row[\"City\"] + ', ' +  row[\"State\"], safe='')\n",
    "    print(neighborhoodquery)\n",
    "    response = requests.get('https://maps.googleapis.com/maps/api/place/findplacefromtext/json?input=' + neighborhoodquery + '&inputtype=textquery&fields=name,id,place_id,plus_code,types,geometry&key=' + _GM_API_KEY)\n",
    "    resp_json_payload = response.json()\n",
    "    print(resp_json_payload)                                           \n",
    "    for k, v in resp_json_payload.items():\n",
    "        print(k)\n",
    "        if ((k == 'candidates') & (len(v) > 0)):\n",
    "            for pair in v:\n",
    "                if (('neighborhood' == pair['types'][0]) or ('locality' in pair['types'][0])):\n",
    "                    if ('political' == pair['types'][1]):\n",
    "                        print(pair['name'])\n",
    "                        print(pair['place_id'])\n",
    "                        row[\"Similar Google Neighborhood\"] = pair['name']\n",
    "                        row[\"Google Place ID\"] = pair['place_id']"
   ]
  },
  {
   "cell_type": "code",
   "execution_count": null,
   "metadata": {},
   "outputs": [],
   "source": [
    "df_nextdoor_neighborhoods.to_csv('mg_nextdoor_with_google_master.csv', index=False)"
   ]
  }
 ],
 "metadata": {
  "kernelspec": {
   "display_name": "Python 3",
   "language": "python",
   "name": "python3"
  },
  "language_info": {
   "codemirror_mode": {
    "name": "ipython",
    "version": 3
   },
   "file_extension": ".py",
   "mimetype": "text/x-python",
   "name": "python",
   "nbconvert_exporter": "python",
   "pygments_lexer": "ipython3",
   "version": "3.6.7"
  }
 },
 "nbformat": 4,
 "nbformat_minor": 2
}
